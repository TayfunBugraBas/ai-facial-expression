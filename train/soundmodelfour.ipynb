{
 "cells": [
  {
   "cell_type": "code",
   "execution_count": 17,
   "metadata": {},
   "outputs": [],
   "source": [
    "import librosa\n",
    "import numpy as np\n",
    "from sklearn.model_selection import train_test_split\n",
    "from keras.models import Sequential\n",
    "from keras.layers import Conv2D, MaxPooling2D, Flatten, Dense, Dropout, LSTM\n",
    "import os\n",
    "import resampy"
   ]
  },
  {
   "cell_type": "code",
   "execution_count": 18,
   "metadata": {},
   "outputs": [],
   "source": [
    "def load_data(data_path):\n",
    "    data = []\n",
    "    labels = []\n",
    "    emotions = {'angry_05': 0,  'disgust_07': 1, 'fearful_06': 2, 'happy_03': 3, 'neutral_01': 4, 'sad_04': 5, 'suprised_08': 6} # Duygulara göre etiketler\n",
    "    for emotion in emotions.keys():\n",
    "        emotion_path = os.path.join(data_path, emotion)\n",
    "        for filename in os.listdir(emotion_path):\n",
    "            if filename.endswith('.wav'):\n",
    "                filepath = os.path.join(emotion_path, filename)\n",
    "                feature = extract_feature(filepath)\n",
    "                data.append(feature)\n",
    "                labels.append(emotions[emotion])\n",
    "    return np.array(data), np.array(labels)"
   ]
  },
  {
   "cell_type": "code",
   "execution_count": 19,
   "metadata": {},
   "outputs": [],
   "source": [
    "def extract_feature(file_path, n_mfcc=40, max_len=174):\n",
    "    audio_data, sample_rate = librosa.load(file_path, res_type='kaiser_fast')\n",
    "    mfccs = librosa.feature.mfcc(y=audio_data, sr=sample_rate, n_mfcc=n_mfcc)\n",
    "    pad_width = max_len - mfccs.shape[1]\n",
    "    if pad_width > 0:\n",
    "        mfccs = np.pad(mfccs, pad_width=((0, 0), (0, pad_width)), mode='constant')\n",
    "    else:\n",
    "        mfccs = mfccs[:, :max_len]\n",
    "    #print(mfccs)\n",
    "    return mfccs"
   ]
  },
  {
   "cell_type": "code",
   "execution_count": 26,
   "metadata": {},
   "outputs": [],
   "source": [
    "data, labels = load_data('D:/yapayzekafinal/ses')\n",
    "x_train, x_test, y_train, y_test = train_test_split(data, labels, test_size=0.2, random_state=42)\n"
   ]
  },
  {
   "cell_type": "code",
   "execution_count": 27,
   "metadata": {},
   "outputs": [
    {
     "name": "stdout",
     "output_type": "stream",
     "text": [
      "[3 0 1 ... 3 3 2]\n",
      "[[0. 0. 0. ... 0. 0. 0.]\n",
      " [1. 0. 0. ... 0. 0. 0.]\n",
      " [0. 1. 0. ... 0. 0. 0.]\n",
      " ...\n",
      " [0. 0. 0. ... 0. 0. 0.]\n",
      " [0. 0. 0. ... 0. 0. 0.]\n",
      " [0. 0. 1. ... 0. 0. 0.]]\n"
     ]
    }
   ],
   "source": [
    "from keras.utils import to_categorical\n",
    "print(y_train)\n",
    "y_train_encoded = to_categorical(y_train, num_classes=7)\n",
    "y_test_encoded = to_categorical(y_test, num_classes=7)\n",
    "print(y_train_encoded)\n"
   ]
  },
  {
   "cell_type": "code",
   "execution_count": 28,
   "metadata": {},
   "outputs": [
    {
     "data": {
      "text/plain": [
       "(1660, 40, 174)"
      ]
     },
     "execution_count": 28,
     "metadata": {},
     "output_type": "execute_result"
    }
   ],
   "source": [
    "x_train.shape"
   ]
  },
  {
   "cell_type": "code",
   "execution_count": 29,
   "metadata": {},
   "outputs": [],
   "source": [
    "cnn_model = Sequential()\n",
    "\n",
    "# Convolutional ve MaxPooling katmanları\n",
    "cnn_model.add(Conv2D(256, kernel_size=(3, 3), activation='relu', input_shape=(40, 174, 1)))\n",
    "cnn_model.add(MaxPooling2D(pool_size=(2, 2)))\n",
    "\n",
    "cnn_model.add(Conv2D(128, kernel_size=(3, 3), activation='relu'))\n",
    "cnn_model.add(MaxPooling2D(pool_size=(2, 2)))\n",
    "\n",
    "cnn_model.add(Conv2D(128, kernel_size=(3, 3), activation='sigmoid'))\n",
    "cnn_model.add(MaxPooling2D(pool_size=(2, 2)))\n",
    "# Tam bağlantılı (fully connected) katmanlar\n",
    "cnn_model.add(Flatten())\n",
    "cnn_model.add(Dense(128, activation='relu'))\n",
    "cnn_model.add(Dense(64, activation='sigmoid'))\n",
    "\n",
    "# Çıkış katmanı\n",
    "cnn_model.add(Dense(7, activation='softmax'))  # 10 sınıf için çıkış"
   ]
  },
  {
   "cell_type": "code",
   "execution_count": 30,
   "metadata": {},
   "outputs": [],
   "source": [
    "cnn_model.compile(loss='categorical_crossentropy', optimizer='adam', metrics=['accuracy'])"
   ]
  },
  {
   "cell_type": "code",
   "execution_count": 31,
   "metadata": {},
   "outputs": [
    {
     "name": "stdout",
     "output_type": "stream",
     "text": [
      "Epoch 1/20\n",
      "\u001b[1m26/26\u001b[0m \u001b[32m━━━━━━━━━━━━━━━━━━━━\u001b[0m\u001b[37m\u001b[0m \u001b[1m11s\u001b[0m 330ms/step - accuracy: 0.1579 - loss: 2.0014 - val_accuracy: 0.1783 - val_loss: 1.9074\n",
      "Epoch 2/20\n",
      "\u001b[1m26/26\u001b[0m \u001b[32m━━━━━━━━━━━━━━━━━━━━\u001b[0m\u001b[37m\u001b[0m \u001b[1m8s\u001b[0m 324ms/step - accuracy: 0.1775 - loss: 1.9058 - val_accuracy: 0.1880 - val_loss: 1.8548\n",
      "Epoch 3/20\n",
      "\u001b[1m26/26\u001b[0m \u001b[32m━━━━━━━━━━━━━━━━━━━━\u001b[0m\u001b[37m\u001b[0m \u001b[1m8s\u001b[0m 319ms/step - accuracy: 0.2500 - loss: 1.8259 - val_accuracy: 0.2434 - val_loss: 1.8014\n",
      "Epoch 4/20\n",
      "\u001b[1m26/26\u001b[0m \u001b[32m━━━━━━━━━━━━━━━━━━━━\u001b[0m\u001b[37m\u001b[0m \u001b[1m8s\u001b[0m 325ms/step - accuracy: 0.2775 - loss: 1.7497 - val_accuracy: 0.3229 - val_loss: 1.7199\n",
      "Epoch 5/20\n",
      "\u001b[1m26/26\u001b[0m \u001b[32m━━━━━━━━━━━━━━━━━━━━\u001b[0m\u001b[37m\u001b[0m \u001b[1m8s\u001b[0m 318ms/step - accuracy: 0.3670 - loss: 1.6519 - val_accuracy: 0.3325 - val_loss: 1.6380\n",
      "Epoch 6/20\n",
      "\u001b[1m26/26\u001b[0m \u001b[32m━━━━━━━━━━━━━━━━━━━━\u001b[0m\u001b[37m\u001b[0m \u001b[1m8s\u001b[0m 327ms/step - accuracy: 0.4484 - loss: 1.5275 - val_accuracy: 0.4217 - val_loss: 1.5420\n",
      "Epoch 7/20\n",
      "\u001b[1m26/26\u001b[0m \u001b[32m━━━━━━━━━━━━━━━━━━━━\u001b[0m\u001b[37m\u001b[0m \u001b[1m9s\u001b[0m 358ms/step - accuracy: 0.5116 - loss: 1.4151 - val_accuracy: 0.4843 - val_loss: 1.3917\n",
      "Epoch 8/20\n",
      "\u001b[1m26/26\u001b[0m \u001b[32m━━━━━━━━━━━━━━━━━━━━\u001b[0m\u001b[37m\u001b[0m \u001b[1m9s\u001b[0m 363ms/step - accuracy: 0.5770 - loss: 1.2711 - val_accuracy: 0.5446 - val_loss: 1.3247\n",
      "Epoch 9/20\n",
      "\u001b[1m26/26\u001b[0m \u001b[32m━━━━━━━━━━━━━━━━━━━━\u001b[0m\u001b[37m\u001b[0m \u001b[1m8s\u001b[0m 327ms/step - accuracy: 0.6591 - loss: 1.1047 - val_accuracy: 0.5494 - val_loss: 1.2273\n",
      "Epoch 10/20\n",
      "\u001b[1m26/26\u001b[0m \u001b[32m━━━━━━━━━━━━━━━━━━━━\u001b[0m\u001b[37m\u001b[0m \u001b[1m9s\u001b[0m 337ms/step - accuracy: 0.6744 - loss: 0.9960 - val_accuracy: 0.6145 - val_loss: 1.1084\n",
      "Epoch 11/20\n",
      "\u001b[1m26/26\u001b[0m \u001b[32m━━━━━━━━━━━━━━━━━━━━\u001b[0m\u001b[37m\u001b[0m \u001b[1m10s\u001b[0m 368ms/step - accuracy: 0.7501 - loss: 0.8518 - val_accuracy: 0.6337 - val_loss: 1.0679\n",
      "Epoch 12/20\n",
      "\u001b[1m26/26\u001b[0m \u001b[32m━━━━━━━━━━━━━━━━━━━━\u001b[0m\u001b[37m\u001b[0m \u001b[1m9s\u001b[0m 344ms/step - accuracy: 0.7976 - loss: 0.7358 - val_accuracy: 0.6145 - val_loss: 1.0441\n",
      "Epoch 13/20\n",
      "\u001b[1m26/26\u001b[0m \u001b[32m━━━━━━━━━━━━━━━━━━━━\u001b[0m\u001b[37m\u001b[0m \u001b[1m10s\u001b[0m 372ms/step - accuracy: 0.8267 - loss: 0.6512 - val_accuracy: 0.6675 - val_loss: 0.9442\n",
      "Epoch 14/20\n",
      "\u001b[1m26/26\u001b[0m \u001b[32m━━━━━━━━━━━━━━━━━━━━\u001b[0m\u001b[37m\u001b[0m \u001b[1m9s\u001b[0m 349ms/step - accuracy: 0.8697 - loss: 0.5149 - val_accuracy: 0.6651 - val_loss: 0.9077\n",
      "Epoch 15/20\n",
      "\u001b[1m26/26\u001b[0m \u001b[32m━━━━━━━━━━━━━━━━━━━━\u001b[0m\u001b[37m\u001b[0m \u001b[1m9s\u001b[0m 343ms/step - accuracy: 0.9259 - loss: 0.3774 - val_accuracy: 0.6602 - val_loss: 0.9042\n",
      "Epoch 16/20\n",
      "\u001b[1m26/26\u001b[0m \u001b[32m━━━━━━━━━━━━━━━━━━━━\u001b[0m\u001b[37m\u001b[0m \u001b[1m9s\u001b[0m 363ms/step - accuracy: 0.9420 - loss: 0.3071 - val_accuracy: 0.6964 - val_loss: 0.8423\n",
      "Epoch 17/20\n",
      "\u001b[1m26/26\u001b[0m \u001b[32m━━━━━━━━━━━━━━━━━━━━\u001b[0m\u001b[37m\u001b[0m \u001b[1m10s\u001b[0m 367ms/step - accuracy: 0.9707 - loss: 0.2257 - val_accuracy: 0.6819 - val_loss: 0.9510\n",
      "Epoch 18/20\n",
      "\u001b[1m26/26\u001b[0m \u001b[32m━━━━━━━━━━━━━━━━━━━━\u001b[0m\u001b[37m\u001b[0m \u001b[1m9s\u001b[0m 339ms/step - accuracy: 0.9680 - loss: 0.1909 - val_accuracy: 0.6892 - val_loss: 0.8589\n",
      "Epoch 19/20\n",
      "\u001b[1m26/26\u001b[0m \u001b[32m━━━━━━━━━━━━━━━━━━━━\u001b[0m\u001b[37m\u001b[0m \u001b[1m9s\u001b[0m 345ms/step - accuracy: 0.9916 - loss: 0.1065 - val_accuracy: 0.7157 - val_loss: 0.8263\n",
      "Epoch 20/20\n",
      "\u001b[1m26/26\u001b[0m \u001b[32m━━━━━━━━━━━━━━━━━━━━\u001b[0m\u001b[37m\u001b[0m \u001b[1m10s\u001b[0m 366ms/step - accuracy: 1.0000 - loss: 0.0695 - val_accuracy: 0.7253 - val_loss: 0.8005\n"
     ]
    }
   ],
   "source": [
    "cnn_history = cnn_model.fit(x_train, y_train_encoded, batch_size=64, epochs=20, validation_data=(x_test, y_test_encoded))\n"
   ]
  },
  {
   "cell_type": "code",
   "execution_count": 32,
   "metadata": {},
   "outputs": [
    {
     "data": {
      "image/png": "[encoded data removed]",
      "text/plain": [
       "<Figure size 640x480 with 1 Axes>"
      ]
     },
     "metadata": {},
     "output_type": "display_data"
    }
   ],
   "source": [
    "import matplotlib.pyplot as plt\n",
    "from sklearn.metrics import classification_report\n",
    "\n",
    "plt.plot(cnn_history.history['loss'], label='Train Loss')\n",
    "plt.plot(cnn_history.history['val_loss'], label='Validation Loss')\n",
    "plt.xlabel('Epochs')\n",
    "plt.ylabel('Loss')\n",
    "plt.legend()\n",
    "plt.show()"
   ]
  },
  {
   "cell_type": "code",
   "execution_count": 33,
   "metadata": {},
   "outputs": [
    {
     "name": "stdout",
     "output_type": "stream",
     "text": [
      "CNN Model Accuracy: 72.53%\n"
     ]
    }
   ],
   "source": [
    "cnn_scores = cnn_model.evaluate(x_test, y_test_encoded, verbose=0)\n",
    "print(\"CNN Model Accuracy: %.2f%%\" % (cnn_scores[1]*100))"
   ]
  },
  {
   "cell_type": "code",
   "execution_count": 34,
   "metadata": {},
   "outputs": [
    {
     "name": "stdout",
     "output_type": "stream",
     "text": [
      "\u001b[1m13/13\u001b[0m \u001b[32m━━━━━━━━━━━━━━━━━━━━\u001b[0m\u001b[37m\u001b[0m \u001b[1m1s\u001b[0m 51ms/step\n",
      "              precision    recall  f1-score   support\n",
      "\n",
      "           0       0.70      0.92      0.80        76\n",
      "           1       0.67      0.70      0.68        40\n",
      "           2       0.67      0.66      0.66        76\n",
      "           3       0.82      0.62      0.71        74\n",
      "           4       0.81      0.78      0.79        37\n",
      "           5       0.77      0.68      0.72        72\n",
      "           6       0.69      0.72      0.71        40\n",
      "\n",
      "    accuracy                           0.73       415\n",
      "   macro avg       0.73      0.73      0.72       415\n",
      "weighted avg       0.73      0.73      0.72       415\n",
      "\n"
     ]
    }
   ],
   "source": [
    "cnn_y_pred = cnn_model.predict(x_test)\n",
    "cnn_y_pred_labels = np.argmax(cnn_y_pred, axis=1)\n",
    "print(classification_report(y_test, cnn_y_pred_labels))"
   ]
  },
  {
   "cell_type": "code",
   "execution_count": 35,
   "metadata": {},
   "outputs": [],
   "source": [
    "cnn_model.save('sesmodeli2.keras')"
   ]
  }
 ],
 "metadata": {
  "kernelspec": {
   "display_name": "base",
   "language": "python",
   "name": "python3"
  },
  "language_info": {
   "codemirror_mode": {
    "name": "ipython",
    "version": 3
   },
   "file_extension": ".py",
   "mimetype": "text/x-python",
   "name": "python",
   "nbconvert_exporter": "python",
   "pygments_lexer": "ipython3",
   "version": "3.11.7"
  }
 },
 "nbformat": 4,
 "nbformat_minor": 2
}
