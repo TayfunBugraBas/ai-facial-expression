{
 "cells": [
  {
   "cell_type": "code",
   "execution_count": 138,
   "metadata": {},
   "outputs": [],
   "source": [
    "import librosa\n",
    "import numpy as np\n",
    "from sklearn.model_selection import train_test_split\n",
    "from keras.models import Sequential\n",
    "from keras.layers import Conv2D, MaxPooling2D, Flatten, Dense, Dropout, LSTM\n",
    "import os\n",
    "import resampy"
   ]
  },
  {
   "cell_type": "code",
   "execution_count": 105,
   "metadata": {},
   "outputs": [],
   "source": [
    "def load_data(data_path):\n",
    "    data = []\n",
    "    labels = []\n",
    "    emotions = {'angry_05': 0, 'boredom': 1, 'calm_02': 2, 'disgust_07': 3, 'fearful_06': 4, 'happy_03': 5, 'neutral_01': 6, 'pain': 7, 'sad_04': 8, 'suprised_08': 9} # Duygulara göre etiketler\n",
    "    for emotion in emotions.keys():\n",
    "        emotion_path = os.path.join(data_path, emotion)\n",
    "        for filename in os.listdir(emotion_path):\n",
    "            if filename.endswith('.wav'):\n",
    "                filepath = os.path.join(emotion_path, filename)\n",
    "                feature = extract_feature(filepath)\n",
    "                data.append(feature)\n",
    "                labels.append(emotions[emotion])\n",
    "    return np.array(data), np.array(labels)"
   ]
  },
  {
   "cell_type": "code",
   "execution_count": 106,
   "metadata": {},
   "outputs": [],
   "source": [
    "def extract_feature(file_path, n_mfcc=40, max_len=174):\n",
    "    audio_data, sample_rate = librosa.load(file_path, res_type='kaiser_fast')\n",
    "    mfccs = librosa.feature.mfcc(y=audio_data, sr=sample_rate, n_mfcc=n_mfcc)\n",
    "    pad_width = max_len - mfccs.shape[1]\n",
    "    if pad_width > 0:\n",
    "        mfccs = np.pad(mfccs, pad_width=((0, 0), (0, pad_width)), mode='constant')\n",
    "    else:\n",
    "        mfccs = mfccs[:, :max_len]\n",
    "    #print(mfccs)\n",
    "    return mfccs"
   ]
  },
  {
   "cell_type": "code",
   "execution_count": 107,
   "metadata": {},
   "outputs": [],
   "source": [
    "data, labels = load_data('D:/yapayzekafinal/ses')\n",
    "x_train, x_test, y_train, y_test = train_test_split(data, labels, test_size=0.2, random_state=42)\n"
   ]
  },
  {
   "cell_type": "code",
   "execution_count": 108,
   "metadata": {},
   "outputs": [
    {
     "name": "stdout",
     "output_type": "stream",
     "text": [
      "[9 6 2 ... 4 2 9]\n",
      "[[0. 0. 0. ... 0. 0. 1.]\n",
      " [0. 0. 0. ... 0. 0. 0.]\n",
      " [0. 0. 1. ... 0. 0. 0.]\n",
      " ...\n",
      " [0. 0. 0. ... 0. 0. 0.]\n",
      " [0. 0. 1. ... 0. 0. 0.]\n",
      " [0. 0. 0. ... 0. 0. 1.]]\n"
     ]
    }
   ],
   "source": [
    "from keras.utils import to_categorical\n",
    "print(y_train)\n",
    "y_train_encoded = to_categorical(y_train, num_classes=10)\n",
    "y_test_encoded = to_categorical(y_test, num_classes=10)\n",
    "print(y_train_encoded)\n"
   ]
  },
  {
   "cell_type": "code",
   "execution_count": 109,
   "metadata": {},
   "outputs": [
    {
     "data": {
      "text/plain": [
       "(2671, 40, 174)"
      ]
     },
     "execution_count": 109,
     "metadata": {},
     "output_type": "execute_result"
    }
   ],
   "source": [
    "x_train.shape"
   ]
  },
  {
   "cell_type": "code",
   "execution_count": 149,
   "metadata": {},
   "outputs": [],
   "source": [
    "cnn_model = Sequential()\n",
    "\n",
    "# Convolutional ve MaxPooling katmanları\n",
    "cnn_model.add(Conv2D(128, kernel_size=(3, 3), activation='relu', input_shape=(40, 174, 1)))\n",
    "cnn_model.add(MaxPooling2D(pool_size=(2, 2)))\n",
    "\n",
    "cnn_model.add(Conv2D(64, kernel_size=(3, 3), activation='relu'))\n",
    "cnn_model.add(MaxPooling2D(pool_size=(2, 2)))\n",
    "\n",
    "cnn_model.add(Conv2D(128, kernel_size=(3, 3), activation='sigmoid'))\n",
    "cnn_model.add(MaxPooling2D(pool_size=(2, 2)))\n",
    "# Tam bağlantılı (fully connected) katmanlar\n",
    "cnn_model.add(Flatten())\n",
    "cnn_model.add(Dense(128, activation='relu'))\n",
    "cnn_model.add(Dense(64, activation='sigmoid'))\n",
    "\n",
    "# Çıkış katmanı\n",
    "cnn_model.add(Dense(10, activation='softmax'))  # 10 sınıf için çıkış"
   ]
  },
  {
   "cell_type": "code",
   "execution_count": 150,
   "metadata": {},
   "outputs": [],
   "source": [
    "cnn_model.compile(loss='categorical_crossentropy', optimizer='adam', metrics=['accuracy'])"
   ]
  },
  {
   "cell_type": "code",
   "execution_count": 151,
   "metadata": {},
   "outputs": [
    {
     "name": "stdout",
     "output_type": "stream",
     "text": [
      "Epoch 1/17\n",
      "\u001b[1m42/42\u001b[0m \u001b[32m━━━━━━━━━━━━━━━━━━━━\u001b[0m\u001b[37m\u001b[0m \u001b[1m16s\u001b[0m 337ms/step - accuracy: 0.1890 - loss: 2.2943 - val_accuracy: 0.3204 - val_loss: 1.9788\n",
      "Epoch 2/17\n",
      "\u001b[1m42/42\u001b[0m \u001b[32m━━━━━━━━━━━━━━━━━━━━\u001b[0m\u001b[37m\u001b[0m \u001b[1m15s\u001b[0m 350ms/step - accuracy: 0.2987 - loss: 1.9642 - val_accuracy: 0.3338 - val_loss: 1.7927\n",
      "Epoch 3/17\n",
      "\u001b[1m42/42\u001b[0m \u001b[32m━━━━━━━━━━━━━━━━━━━━\u001b[0m\u001b[37m\u001b[0m \u001b[1m15s\u001b[0m 365ms/step - accuracy: 0.3238 - loss: 1.7924 - val_accuracy: 0.3593 - val_loss: 1.7043\n",
      "Epoch 4/17\n",
      "\u001b[1m42/42\u001b[0m \u001b[32m━━━━━━━━━━━━━━━━━━━━\u001b[0m\u001b[37m\u001b[0m \u001b[1m14s\u001b[0m 332ms/step - accuracy: 0.3647 - loss: 1.6767 - val_accuracy: 0.4012 - val_loss: 1.5639\n",
      "Epoch 5/17\n",
      "\u001b[1m42/42\u001b[0m \u001b[32m━━━━━━━━━━━━━━━━━━━━\u001b[0m\u001b[37m\u001b[0m \u001b[1m14s\u001b[0m 331ms/step - accuracy: 0.4219 - loss: 1.5347 - val_accuracy: 0.4461 - val_loss: 1.4614\n",
      "Epoch 6/17\n",
      "\u001b[1m42/42\u001b[0m \u001b[32m━━━━━━━━━━━━━━━━━━━━\u001b[0m\u001b[37m\u001b[0m \u001b[1m14s\u001b[0m 328ms/step - accuracy: 0.4718 - loss: 1.4442 - val_accuracy: 0.5000 - val_loss: 1.3533\n",
      "Epoch 7/17\n",
      "\u001b[1m42/42\u001b[0m \u001b[32m━━━━━━━━━━━━━━━━━━━━\u001b[0m\u001b[37m\u001b[0m \u001b[1m14s\u001b[0m 326ms/step - accuracy: 0.5228 - loss: 1.3232 - val_accuracy: 0.5704 - val_loss: 1.1870\n",
      "Epoch 8/17\n",
      "\u001b[1m42/42\u001b[0m \u001b[32m━━━━━━━━━━━━━━━━━━━━\u001b[0m\u001b[37m\u001b[0m \u001b[1m14s\u001b[0m 331ms/step - accuracy: 0.6300 - loss: 1.1258 - val_accuracy: 0.6198 - val_loss: 1.1303\n",
      "Epoch 9/17\n",
      "\u001b[1m42/42\u001b[0m \u001b[32m━━━━━━━━━━━━━━━━━━━━\u001b[0m\u001b[37m\u001b[0m \u001b[1m14s\u001b[0m 334ms/step - accuracy: 0.7013 - loss: 0.9708 - val_accuracy: 0.6602 - val_loss: 1.0007\n",
      "Epoch 10/17\n",
      "\u001b[1m42/42\u001b[0m \u001b[32m━━━━━━━━━━━━━━━━━━━━\u001b[0m\u001b[37m\u001b[0m \u001b[1m15s\u001b[0m 345ms/step - accuracy: 0.7394 - loss: 0.8626 - val_accuracy: 0.6751 - val_loss: 0.9565\n",
      "Epoch 11/17\n",
      "\u001b[1m42/42\u001b[0m \u001b[32m━━━━━━━━━━━━━━━━━━━━\u001b[0m\u001b[37m\u001b[0m \u001b[1m15s\u001b[0m 347ms/step - accuracy: 0.7773 - loss: 0.7344 - val_accuracy: 0.6961 - val_loss: 0.8895\n",
      "Epoch 12/17\n",
      "\u001b[1m42/42\u001b[0m \u001b[32m━━━━━━━━━━━━━━━━━━━━\u001b[0m\u001b[37m\u001b[0m \u001b[1m14s\u001b[0m 328ms/step - accuracy: 0.8277 - loss: 0.6336 - val_accuracy: 0.7171 - val_loss: 0.8130\n",
      "Epoch 13/17\n",
      "\u001b[1m42/42\u001b[0m \u001b[32m━━━━━━━━━━━━━━━━━━━━\u001b[0m\u001b[37m\u001b[0m \u001b[1m14s\u001b[0m 329ms/step - accuracy: 0.8575 - loss: 0.5231 - val_accuracy: 0.7186 - val_loss: 0.7905\n",
      "Epoch 14/17\n",
      "\u001b[1m42/42\u001b[0m \u001b[32m━━━━━━━━━━━━━━━━━━━━\u001b[0m\u001b[37m\u001b[0m \u001b[1m15s\u001b[0m 356ms/step - accuracy: 0.8840 - loss: 0.4641 - val_accuracy: 0.7455 - val_loss: 0.7360\n",
      "Epoch 15/17\n",
      "\u001b[1m42/42\u001b[0m \u001b[32m━━━━━━━━━━━━━━━━━━━━\u001b[0m\u001b[37m\u001b[0m \u001b[1m14s\u001b[0m 344ms/step - accuracy: 0.9157 - loss: 0.3596 - val_accuracy: 0.7320 - val_loss: 0.7599\n",
      "Epoch 16/17\n",
      "\u001b[1m42/42\u001b[0m \u001b[32m━━━━━━━━━━━━━━━━━━━━\u001b[0m\u001b[37m\u001b[0m \u001b[1m15s\u001b[0m 347ms/step - accuracy: 0.9285 - loss: 0.3188 - val_accuracy: 0.7710 - val_loss: 0.6914\n",
      "Epoch 17/17\n",
      "\u001b[1m42/42\u001b[0m \u001b[32m━━━━━━━━━━━━━━━━━━━━\u001b[0m\u001b[37m\u001b[0m \u001b[1m15s\u001b[0m 359ms/step - accuracy: 0.9635 - loss: 0.2203 - val_accuracy: 0.7829 - val_loss: 0.6647\n"
     ]
    }
   ],
   "source": [
    "cnn_history = cnn_model.fit(x_train, y_train_encoded, batch_size=64, epochs=17, validation_data=(x_test, y_test_encoded))\n"
   ]
  },
  {
   "cell_type": "code",
   "execution_count": 155,
   "metadata": {},
   "outputs": [
    {
     "data": {
      "image/png": "[encoded data removed]",
      "text/plain": [
       "<Figure size 640x480 with 1 Axes>"
      ]
     },
     "metadata": {},
     "output_type": "display_data"
    }
   ],
   "source": [
    "import matplotlib.pyplot as plt\n",
    "from sklearn.metrics import classification_report\n",
    "\n",
    "plt.plot(cnn_history.history['loss'], label='Train Loss')\n",
    "plt.plot(cnn_history.history['val_loss'], label='Validation Loss')\n",
    "plt.xlabel('Epochs')\n",
    "plt.ylabel('Loss')\n",
    "plt.legend()\n",
    "plt.show()"
   ]
  },
  {
   "cell_type": "code",
   "execution_count": 156,
   "metadata": {},
   "outputs": [
    {
     "name": "stdout",
     "output_type": "stream",
     "text": [
      "CNN Model Accuracy: 78.29%\n"
     ]
    }
   ],
   "source": [
    "cnn_scores = cnn_model.evaluate(x_test, y_test_encoded, verbose=0)\n",
    "print(\"CNN Model Accuracy: %.2f%%\" % (cnn_scores[1]*100))"
   ]
  },
  {
   "cell_type": "code",
   "execution_count": 157,
   "metadata": {},
   "outputs": [
    {
     "name": "stdout",
     "output_type": "stream",
     "text": [
      "\u001b[1m21/21\u001b[0m \u001b[32m━━━━━━━━━━━━━━━━━━━━\u001b[0m\u001b[37m\u001b[0m \u001b[1m1s\u001b[0m 48ms/step\n",
      "              precision    recall  f1-score   support\n",
      "\n",
      "           0       0.81      0.85      0.83        95\n",
      "           1       0.82      0.84      0.83        63\n",
      "           2       0.92      0.82      0.87        74\n",
      "           3       0.68      0.62      0.65        37\n",
      "           4       0.74      0.48      0.58        77\n",
      "           5       0.66      0.76      0.70        83\n",
      "           6       0.71      0.80      0.75        30\n",
      "           7       0.91      0.89      0.90       114\n",
      "           8       0.75      0.81      0.78        62\n",
      "           9       0.66      0.88      0.75        33\n",
      "\n",
      "    accuracy                           0.78       668\n",
      "   macro avg       0.76      0.78      0.76       668\n",
      "weighted avg       0.79      0.78      0.78       668\n",
      "\n"
     ]
    }
   ],
   "source": [
    "cnn_y_pred = cnn_model.predict(x_test)\n",
    "cnn_y_pred_labels = np.argmax(cnn_y_pred, axis=1)\n",
    "print(classification_report(y_test, cnn_y_pred_labels))"
   ]
  },
  {
   "cell_type": "code",
   "execution_count": 158,
   "metadata": {},
   "outputs": [],
   "source": [
    "cnn_model.save('sesmodeli1.keras')"
   ]
  }
 ],
 "metadata": {
  "kernelspec": {
   "display_name": "base",
   "language": "python",
   "name": "python3"
  },
  "language_info": {
   "codemirror_mode": {
    "name": "ipython",
    "version": 3
   },
   "file_extension": ".py",
   "mimetype": "text/x-python",
   "name": "python",
   "nbconvert_exporter": "python",
   "pygments_lexer": "ipython3",
   "version": "3.11.7"
  }
 },
 "nbformat": 4,
 "nbformat_minor": 2
}
